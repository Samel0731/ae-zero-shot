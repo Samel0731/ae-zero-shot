{
 "cells": [
  {
   "cell_type": "code",
   "execution_count": 1,
   "metadata": {},
   "outputs": [],
   "source": [
    "import torch\n",
    "import matplotlib.pyplot as plt\n",
    "\n",
    "# Function to visualize the input and output\n",
    "def visualize_prediction(model, data_loader, device, max_images=10):\n",
    "    model.eval()  # Set model to evaluation mode\n",
    "    \n",
    "    # Get a batch of images\n",
    "    images = next(iter(data_loader))\n",
    "    images = images.to(device)\n",
    "    \n",
    "    # Limit the number of images displayed\n",
    "    if len(images) > max_images:\n",
    "        images = images[:max_images]\n",
    "\n",
    "    # Perform inference (forward pass)\n",
    "    with torch.no_grad():\n",
    "        reconstructed = model(images)\n",
    "\n",
    "    # Move data back to CPU for visualization\n",
    "    images = images.cpu()\n",
    "    reconstructed = reconstructed.cpu()\n",
    "\n",
    "    # Display the original and reconstructed images\n",
    "    fig, axes = plt.subplots(2, len(images), figsize=(15, 5))\n",
    "\n",
    "    for i in range(len(images)):\n",
    "        # Original image\n",
    "        axes[0, i].imshow(images[i].squeeze(), cmap='gray')\n",
    "        axes[0, i].set_title(\"Original\", fontsize=10)\n",
    "        axes[0, i].axis('off')\n",
    "\n",
    "        # Reconstructed image\n",
    "        axes[1, i].imshow(reconstructed[i].squeeze(), cmap='gray')\n",
    "        axes[1, i].set_title(\"Reconstructed\", fontsize=10)\n",
    "        axes[1, i].axis('off')\n",
    "\n",
    "    # plt.tight_layout()  # Avoid overlapping of titles and images\n",
    "    # Adjust subplot spacing to prevent overlap\n",
    "    plt.subplots_adjust(wspace=0.4, hspace=0.6)\n",
    "    plt.show()\n"
   ]
  },
  {
   "cell_type": "code",
   "execution_count": 2,
   "metadata": {},
   "outputs": [],
   "source": [
    "import os\n",
    "from PIL import Image\n",
    "from torch.utils.data import Dataset\n",
    "from torchvision import transforms\n",
    "\n",
    "# Custom dataset class\n",
    "class CustomGrayscaleDataset(Dataset):\n",
    "    def __init__(self, root_dir, transform=None):\n",
    "        \"\"\"\n",
    "        Args:\n",
    "            root_dir (string): Directory with all the images.\n",
    "            transform (callable, optional): Optional transform to be applied on a sample.\n",
    "        \"\"\"\n",
    "        self.root_dir = root_dir\n",
    "        self.image_files = os.listdir(root_dir)  # List of all image file names\n",
    "        self.transform = transform  # Apply transformations if provided\n",
    "\n",
    "    def __len__(self):\n",
    "        return len(self.image_files)\n",
    "\n",
    "    def __getitem__(self, idx):\n",
    "        # Load the image at index `idx`\n",
    "        img_path = os.path.join(self.root_dir, self.image_files[idx])\n",
    "        image = Image.open(img_path).convert('L')  # Convert to grayscale ('L' mode)\n",
    "\n",
    "        # Apply any transformations\n",
    "        if self.transform:\n",
    "            image = self.transform(image)\n",
    "\n",
    "        return image\n"
   ]
  },
  {
   "cell_type": "code",
   "execution_count": 3,
   "metadata": {},
   "outputs": [],
   "source": [
    "from torch.utils.data import DataLoader\n",
    "from torchvision import transforms\n",
    "\n",
    "# Define transformations: Resize images to 200x200 and convert to tensor\n",
    "test_transform = transforms.Compose([\n",
    "    transforms.Resize((200, 200)),  # Resize images to 200x200\n",
    "    transforms.ToTensor(),  # Convert images to tensor (values between 0 and 1)\n",
    "])\n",
    "\n",
    "# Create the test dataset object (using the custom dataset class)\n",
    "test_dataset = CustomGrayscaleDataset(root_dir='./data/test_data/1/labels', transform=test_transform)\n",
    "\n",
    "# Create the test DataLoader to load images in batches of 32\n",
    "test_loader = DataLoader(dataset=test_dataset, batch_size=32, shuffle=False)\n"
   ]
  },
  {
   "cell_type": "code",
   "execution_count": null,
   "metadata": {},
   "outputs": [],
   "source": [
    "from model import build_AE\n",
    "from utils.loader import KFoldDataset\n",
    "from torchvision import transforms\n",
    "\n",
    "# Assume you have your model and DataLoader ready\n",
    "# Move the model to the appropriate device\n",
    "device = torch.device('cuda' if torch.cuda.is_available() else 'cpu')\n",
    "# Load the trained model (if already saved)\n",
    "autoencoder = build_AE()  # Make sure this matches the original model architecture\n",
    "autoencoder.load_state_dict(torch.load('model_20240916_075051_89'))\n",
    "autoencoder.to(device)\n",
    "\n",
    "# Visualize predictions (using the data loader defined earlier)\n",
    "visualize_prediction(autoencoder, test_loader, device)\n"
   ]
  },
  {
   "cell_type": "code",
   "execution_count": null,
   "metadata": {},
   "outputs": [],
   "source": [
    "from model import build_AE\n",
    "from utils.loader import KFoldDataset\n",
    "from torchvision import transforms\n",
    "\n",
    "# Assume you have your model and DataLoader ready\n",
    "# Move the model to the appropriate device\n",
    "device = torch.device('cuda' if torch.cuda.is_available() else 'cpu')\n",
    "# Load the trained model (if already saved)\n",
    "autoencoder = build_AE()  # Make sure this matches the original model architecture\n",
    "autoencoder.load_state_dict(torch.load('/home/samel/workplace/ae-zero-shot/model_20240916_082655_177'))\n",
    "autoencoder.to(device)\n",
    "\n",
    "# Visualize predictions (using the data loader defined earlier)\n",
    "visualize_prediction(autoencoder, test_loader, device)\n"
   ]
  },
  {
   "cell_type": "code",
   "execution_count": 4,
   "metadata": {},
   "outputs": [
    {
     "data": {
      "image/png": "[encoded data removed]",
      "text/plain": [
       "<Figure size 1500x500 with 20 Axes>"
      ]
     },
     "metadata": {},
     "output_type": "display_data"
    }
   ],
   "source": [
    "from model import build_AE\n",
    "from utils.loader import KFoldDataset\n",
    "from torchvision import transforms\n",
    "\n",
    "# Assume you have your model and DataLoader ready\n",
    "# Move the model to the appropriate device\n",
    "device = torch.device('cuda' if torch.cuda.is_available() else 'cpu')\n",
    "# Load the trained model (if already saved)\n",
    "autoencoder = build_AE()  # Make sure this matches the original model architecture\n",
    "autoencoder.load_state_dict(torch.load('/home/samel/workplace/ae-zero-shot/model_20240917_025401_195'))\n",
    "autoencoder.to(device)\n",
    "\n",
    "# Visualize predictions (using the data loader defined earlier)\n",
    "visualize_prediction(autoencoder, test_loader, device)"
   ]
  }
 ],
 "metadata": {
  "kernelspec": {
   "display_name": "ae-zero-shot",
   "language": "python",
   "name": "python3"
  },
  "language_info": {
   "codemirror_mode": {
    "name": "ipython",
    "version": 3
   },
   "file_extension": ".py",
   "mimetype": "text/x-python",
   "name": "python",
   "nbconvert_exporter": "python",
   "pygments_lexer": "ipython3",
   "version": "3.9.19"
  }
 },
 "nbformat": 4,
 "nbformat_minor": 2
}
